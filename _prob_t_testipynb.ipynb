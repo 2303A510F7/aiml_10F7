{
  "nbformat": 4,
  "nbformat_minor": 0,
  "metadata": {
    "colab": {
      "provenance": [],
      "authorship_tag": "ABX9TyO192/bJ5lVyOLYxp21ZTOw",
      "include_colab_link": true
    },
    "kernelspec": {
      "name": "python3",
      "display_name": "Python 3"
    },
    "language_info": {
      "name": "python"
    }
  },
  "cells": [
    {
      "cell_type": "markdown",
      "metadata": {
        "id": "view-in-github",
        "colab_type": "text"
      },
      "source": [
        "<a href=\"https://colab.research.google.com/github/2303A510F7/aiml_10F7/blob/main/_prob_t_testipynb.ipynb\" target=\"_parent\"><img src=\"https://colab.research.google.com/assets/colab-badge.svg\" alt=\"Open In Colab\"/></a>"
      ]
    },
    {
      "cell_type": "code",
      "execution_count": 1,
      "metadata": {
        "colab": {
          "base_uri": "https://localhost:8080/"
        },
        "id": "lh2xjenrZYeD",
        "outputId": "0b925475-2ed4-4acd-cbe1-aa50d764130b"
      },
      "outputs": [
        {
          "output_type": "stream",
          "name": "stdout",
          "text": [
            "One-sample t-test results for coffee shop waiting times: t-statistic = -0.3300, p-value = 0.7476\n",
            "Two-sample t-test results for step counts: t-statistic = 4.0905, p-value = 0.0009\n",
            "Paired t-test results for study method: t-statistic = 9.1506, p-value = 0.0000\n"
          ]
        }
      ],
      "source": [
        "import numpy as np\n",
        "import scipy.stats as stats\n",
        "\n",
        "# 1) One-sample t-test for coffee shop waiting time\n",
        "sample_wait_times = np.array([11, 9, 10, 12, 8, 7, 13, 11, 10, 9, 8, 10])\n",
        "population_mean = 10\n",
        "\n",
        "t_stat1, p_value1 = stats.ttest_1samp(sample_wait_times, population_mean)\n",
        "print(f\"One-sample t-test results for coffee shop waiting times: t-statistic = {t_stat1:.4f}, p-value = {p_value1:.4f}\")\n",
        "\n",
        "# 2) Two-sample independent t-test for step count comparison\n",
        "steps_group_a = np.array([8500, 9000, 9200, 8800, 7600, 9500, 8900, 9100, 8400, 8600])\n",
        "steps_group_b = np.array([7800, 8200, 8500, 8000, 7900, 7400, 7700, 8100, 8300, 7600])\n",
        "\n",
        "t_stat2, p_value2 = stats.ttest_ind(steps_group_a, steps_group_b, equal_var=False)  # Welch’s t-test\n",
        "print(f\"Two-sample t-test results for step counts: t-statistic = {t_stat2:.4f}, p-value = {p_value2:.4f}\")\n",
        "\n",
        "# 3) Paired t-test for study method improvement\n",
        "test_scores_before = np.array([72, 68, 65, 78, 80, 70, 74, 68, 82, 76])\n",
        "test_scores_after = np.array([80, 75, 85, 88, 90, 78, 84, 80, 92, 86])\n",
        "\n",
        "t_stat3, p_value3 = stats.ttest_rel(test_scores_after, test_scores_before)\n",
        "print(f\"Paired t-test results for study method: t-statistic = {t_stat3:.4f}, p-value = {p_value3:.4f}\")\n"
      ]
    }
  ]
}