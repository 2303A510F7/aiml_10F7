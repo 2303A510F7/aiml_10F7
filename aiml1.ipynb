{
  "nbformat": 4,
  "nbformat_minor": 0,
  "metadata": {
    "colab": {
      "provenance": [],
      "authorship_tag": "ABX9TyMuRAAX9vid6JFysCawJHja",
      "include_colab_link": true
    },
    "kernelspec": {
      "name": "python3",
      "display_name": "Python 3"
    },
    "language_info": {
      "name": "python"
    }
  },
  "cells": [
    {
      "cell_type": "markdown",
      "metadata": {
        "id": "view-in-github",
        "colab_type": "text"
      },
      "source": [
        "<a href=\"https://colab.research.google.com/github/2303A510F7/aiml_10F7/blob/main/aiml1.ipynb\" target=\"_parent\"><img src=\"https://colab.research.google.com/assets/colab-badge.svg\" alt=\"Open In Colab\"/></a>"
      ]
    },
    {
      "cell_type": "code",
      "execution_count": null,
      "metadata": {
        "id": "LymNcrIQYV6e"
      },
      "outputs": [],
      "source": [
        "import pandas as pd\n",
        "import numpy as np\n",
        "from sklearn.model_selection import train_test_split\n",
        "from sklearn.preprocessing import StandardScaler, LabelEncoder\n",
        "from sklearn.svm import SVC\n",
        "from sklearn.linear_model import LogisticRegression, LinearRegression\n",
        "from sklearn.tree import DecisionTreeClassifier\n",
        "from sklearn.ensemble import RandomForestClassifier\n",
        "from sklearn.neighbors import KNeighborsClassifier\n",
        "from sklearn.metrics import accuracy_score, classification_report, confusion_matrix, mean_squared_error\n",
        "import seaborn as sns\n",
        "import matplotlib.pyplot as plt\n",
        "\n"
      ]
    },
    {
      "cell_type": "code",
      "source": [
        "# Load dataset\n",
        "data = pd.read_csv('/content/column_2C_weka.csv')\n",
        "print(data.columns)\n",
        "print(data.head())\n"
      ],
      "metadata": {
        "colab": {
          "base_uri": "https://localhost:8080/"
        },
        "id": "lNfN0wpuZF04",
        "outputId": "d2eea9f8-9b8b-4258-cfbe-0c16e68d18b0"
      },
      "execution_count": null,
      "outputs": [
        {
          "output_type": "stream",
          "name": "stdout",
          "text": [
            "Index(['pelvic_incidence', 'pelvic_tilt numeric', 'lumbar_lordosis_angle',\n",
            "       'sacral_slope', 'pelvic_radius', 'degree_spondylolisthesis', 'class'],\n",
            "      dtype='object')\n",
            "   pelvic_incidence  pelvic_tilt numeric  lumbar_lordosis_angle  sacral_slope  \\\n",
            "0         63.027817            22.552586              39.609117     40.475232   \n",
            "1         39.056951            10.060991              25.015378     28.995960   \n",
            "2         68.832021            22.218482              50.092194     46.613539   \n",
            "3         69.297008            24.652878              44.311238     44.644130   \n",
            "4         49.712859             9.652075              28.317406     40.060784   \n",
            "\n",
            "   pelvic_radius  degree_spondylolisthesis     class  \n",
            "0      98.672917                 -0.254400  Abnormal  \n",
            "1     114.405425                  4.564259  Abnormal  \n",
            "2     105.985135                 -3.530317  Abnormal  \n",
            "3     101.868495                 11.211523  Abnormal  \n",
            "4     108.168725                  7.918501  Abnormal  \n"
          ]
        }
      ]
    },
    {
      "cell_type": "code",
      "source": [
        "# Separate features and target\n",
        "X = data.drop(columns='class')  # Replace 'class' with the correct column name for your dataset\n",
        "y = data['class']  # Replace 'class' with the correct column name for your datase"
      ],
      "metadata": {
        "id": "CB3XyS5XhVtP"
      },
      "execution_count": null,
      "outputs": []
    },
    {
      "cell_type": "code",
      "source": [
        "# Label Encoding for the target variable (if categorical)\n",
        "label_encoder = LabelEncoder()\n",
        "y = label_encoder.fit_transform(y)\n"
      ],
      "metadata": {
        "id": "AeXOcLleha-T"
      },
      "execution_count": null,
      "outputs": []
    },
    {
      "cell_type": "code",
      "source": [
        "# Split dataset into training and testing sets\n",
        "X_train, X_test, y_train, y_test = train_test_split(X, y, test_size=0.8, random_state=48)"
      ],
      "metadata": {
        "id": "3GN-QXoOheCz"
      },
      "execution_count": null,
      "outputs": []
    },
    {
      "cell_type": "code",
      "source": [
        "\n",
        "# Standardize features\n",
        "scaler = StandardScaler()\n",
        "X_train = scaler.fit_transform(X_train)\n",
        "X_test = scaler.transform(X_test)\n"
      ],
      "metadata": {
        "id": "zKoSAI-ehiR7"
      },
      "execution_count": null,
      "outputs": []
    },
    {
      "cell_type": "code",
      "source": [
        "# ----- Linear Regression -----\n",
        "lr_model = LinearRegression()\n",
        "lr_model.fit(X_train, y_train)\n",
        "y_pred_lr = lr_model.predict(X_test)\n",
        "mse_lr = mean_squared_error(y_test, y_pred_lr)\n",
        "print(f\"Linear Regression MSE: {mse_lr}\")\n"
      ],
      "metadata": {
        "colab": {
          "base_uri": "https://localhost:8080/"
        },
        "id": "-qsW1ZRdhlo7",
        "outputId": "85c30177-8d1a-4fde-c86e-a60fc3367f4d"
      },
      "execution_count": null,
      "outputs": [
        {
          "output_type": "stream",
          "name": "stdout",
          "text": [
            "Linear Regression MSE: 0.192549611773982\n"
          ]
        }
      ]
    },
    {
      "cell_type": "code",
      "source": [
        "# ----- Logistic Regression -----\n",
        "log_model = LogisticRegression(max_iter=1000)\n",
        "log_model.fit(X_train, y_train)\n",
        "y_pred_log = log_model.predict(X_test)\n",
        "accuracy_log = accuracy_score(y_test, y_pred_log)\n",
        "print(f\"Logistic Regression Accuracy: {accuracy_log * 100}%\")\n"
      ],
      "metadata": {
        "colab": {
          "base_uri": "https://localhost:8080/"
        },
        "id": "GnD7OyiqhtuU",
        "outputId": "6e670792-ac13-415e-89b1-11aad4493a85"
      },
      "execution_count": null,
      "outputs": [
        {
          "output_type": "stream",
          "name": "stdout",
          "text": [
            "Logistic Regression Accuracy: 84.67741935483872%\n"
          ]
        }
      ]
    },
    {
      "cell_type": "code",
      "source": [
        "# ----- Decision Tree Classifier -----\n",
        "dt_model = DecisionTreeClassifier(random_state=48)\n",
        "dt_model.fit(X_train, y_train)\n",
        "y_pred_dt = dt_model.predict(X_test)\n",
        "accuracy_dt = accuracy_score(y_test, y_pred_dt)\n",
        "print(f\"Decision Tree Classifier Accuracy: {accuracy_dt * 100}%\")\n"
      ],
      "metadata": {
        "colab": {
          "base_uri": "https://localhost:8080/"
        },
        "id": "YmhOTrUxhvPD",
        "outputId": "0ea9361b-8630-49d5-81ca-af80603c4e10"
      },
      "execution_count": null,
      "outputs": [
        {
          "output_type": "stream",
          "name": "stdout",
          "text": [
            "Decision Tree Classifier Accuracy: 80.24193548387096%\n"
          ]
        }
      ]
    },
    {
      "cell_type": "code",
      "source": [
        "# ----- Random Forest Classifier -----\n",
        "rf_model = RandomForestClassifier(random_state=48)\n",
        "rf_model.fit(X_train, y_train)\n",
        "y_pred_rf = rf_model.predict(X_test)\n",
        "accuracy_rf = accuracy_score(y_test, y_pred_rf)\n",
        "print(f\"Random Forest Classifier Accuracy: {accuracy_rf * 100}%\")\n"
      ],
      "metadata": {
        "colab": {
          "base_uri": "https://localhost:8080/"
        },
        "id": "2RxN9w0Whx1s",
        "outputId": "5639c4e1-e14d-4887-c23a-c922c4658e48"
      },
      "execution_count": null,
      "outputs": [
        {
          "output_type": "stream",
          "name": "stdout",
          "text": [
            "Random Forest Classifier Accuracy: 83.46774193548387%\n"
          ]
        }
      ]
    },
    {
      "cell_type": "code",
      "source": [
        "# ----- K-Nearest Neighbors (KNN) -----\n",
        "knn_model = KNeighborsClassifier()\n",
        "knn_model.fit(X_train, y_train)\n",
        "y_pred_knn = knn_model.predict(X_test)\n",
        "accuracy_knn = accuracy_score(y_test, y_pred_knn)\n",
        "print(f\"K-Nearest Neighbors Accuracy: {accuracy_knn * 100}%\")\n"
      ],
      "metadata": {
        "colab": {
          "base_uri": "https://localhost:8080/"
        },
        "id": "z1xGaYUrh_6b",
        "outputId": "4453e3de-c792-4a68-815a-960f88ce279d"
      },
      "execution_count": null,
      "outputs": [
        {
          "output_type": "stream",
          "name": "stdout",
          "text": [
            "K-Nearest Neighbors Accuracy: 80.24193548387096%\n"
          ]
        }
      ]
    },
    {
      "cell_type": "code",
      "source": [
        "# ----- Support Vector Machine (SVM) -----\n",
        "svm_classifier = SVC(random_state=48)\n",
        "svm_classifier.fit(X_train, y_train)\n",
        "y_pred_svm = svm_classifier.predict(X_test)\n",
        "accuracy_svm = accuracy_score(y_test, y_pred_svm)\n",
        "print(f\"SVM Accuracy: {accuracy_svm * 100}%\")\n"
      ],
      "metadata": {
        "colab": {
          "base_uri": "https://localhost:8080/"
        },
        "id": "2hNunx20iBLm",
        "outputId": "76a544b0-cf94-4563-cfbf-81979d5dd562"
      },
      "execution_count": null,
      "outputs": [
        {
          "output_type": "stream",
          "name": "stdout",
          "text": [
            "SVM Accuracy: 83.06451612903226%\n"
          ]
        }
      ]
    },
    {
      "cell_type": "code",
      "source": [
        "# ----- Confusion Matrix Plot -----\n",
        "def plot_confusion_matrix(conf_matrix, title):\n",
        "    plt.figure(figsize=(8, 6))\n",
        "    sns.heatmap(conf_matrix, annot=True, fmt=\"d\", cmap=\"Blues\", cbar=False)\n",
        "    plt.xlabel(\"Predicted Labels\")\n",
        "    plt.ylabel(\"True Labels\")\n",
        "    plt.title(f\"{title} Confusion Matrix\")\n",
        "    plt.show()\n"
      ],
      "metadata": {
        "id": "hEEfnYBNiEq1"
      },
      "execution_count": null,
      "outputs": []
    },
    {
      "cell_type": "code",
      "source": [
        "# Plot confusion matrix for all models\n",
        "print(\"Confusion Matrix for Logistic Regression\")\n",
        "conf_matrix_log = confusion_matrix(y_test, y_pred_log)\n",
        "plot_confusion_matrix(conf_matrix_log, \"Logistic Regression\")\n"
      ],
      "metadata": {
        "colab": {
          "base_uri": "https://localhost:8080/",
          "height": 581
        },
        "id": "hvZJFkhjiHXr",
        "outputId": "6f909336-8c0e-4802-f3e9-47b7e863a011"
      },
      "execution_count": null,
      "outputs": [
        {
          "output_type": "stream",
          "name": "stdout",
          "text": [
            "Confusion Matrix for Logistic Regression\n"
          ]
        },
        {
          "output_type": "display_data",
          "data": {
            "text/plain": [
              "<Figure size 800x600 with 1 Axes>"
            ],
            "image/png": "[encoded data removed]"
          },
          "metadata": {}
        }
      ]
    },
    {
      "cell_type": "code",
      "source": [
        "print(\"Confusion Matrix for Decision Tree\")\n",
        "conf_matrix_dt = confusion_matrix(y_test, y_pred_dt)\n",
        "plot_confusion_matrix(conf_matrix_dt, \"Decision Tree\")\n"
      ],
      "metadata": {
        "colab": {
          "base_uri": "https://localhost:8080/",
          "height": 581
        },
        "id": "Jv_KWceRiKND",
        "outputId": "3962988f-7f2d-42a2-c6ab-9f35f416daca"
      },
      "execution_count": null,
      "outputs": [
        {
          "output_type": "stream",
          "name": "stdout",
          "text": [
            "Confusion Matrix for Decision Tree\n"
          ]
        },
        {
          "output_type": "display_data",
          "data": {
            "text/plain": [
              "<Figure size 800x600 with 1 Axes>"
            ],
            "image/png": "[encoded data removed]"
          },
          "metadata": {}
        }
      ]
    },
    {
      "cell_type": "code",
      "source": [
        "print(\"Confusion Matrix for Random Forest\")\n",
        "conf_matrix_rf = confusion_matrix(y_test, y_pred_rf)\n",
        "plot_confusion_matrix(conf_matrix_rf, \"Random Forest\")\n"
      ],
      "metadata": {
        "colab": {
          "base_uri": "https://localhost:8080/",
          "height": 581
        },
        "id": "Zj3zg94AiMtF",
        "outputId": "343a1c7f-5712-43a7-88c6-c6c5f266ae8c"
      },
      "execution_count": null,
      "outputs": [
        {
          "output_type": "stream",
          "name": "stdout",
          "text": [
            "Confusion Matrix for Random Forest\n"
          ]
        },
        {
          "output_type": "display_data",
          "data": {
            "text/plain": [
              "<Figure size 800x600 with 1 Axes>"
            ],
            "image/png": "[encoded data removed]"
          },
          "metadata": {}
        }
      ]
    },
    {
      "cell_type": "code",
      "source": [
        "print(\"Confusion Matrix for KNN\")\n",
        "conf_matrix_knn = confusion_matrix(y_test, y_pred_knn)\n",
        "plot_confusion_matrix(conf_matrix_knn, \"K-Nearest Neighbors\")\n"
      ],
      "metadata": {
        "colab": {
          "base_uri": "https://localhost:8080/",
          "height": 581
        },
        "id": "S3NbFSCriPNl",
        "outputId": "38d4ab75-69bb-4ed5-8733-eda0657744d9"
      },
      "execution_count": null,
      "outputs": [
        {
          "output_type": "stream",
          "name": "stdout",
          "text": [
            "Confusion Matrix for KNN\n"
          ]
        },
        {
          "output_type": "display_data",
          "data": {
            "text/plain": [
              "<Figure size 800x600 with 1 Axes>"
            ],
            "image/png": "[encoded data removed]"
          },
          "metadata": {}
        }
      ]
    },
    {
      "cell_type": "code",
      "source": [
        "print(\"Confusion Matrix for SVM\")\n",
        "conf_matrix_svm = confusion_matrix(y_test, y_pred_svm)\n",
        "plot_confusion_matrix(conf_matrix_svm, \"SVM\")"
      ],
      "metadata": {
        "colab": {
          "base_uri": "https://localhost:8080/",
          "height": 581
        },
        "id": "L0CTYRg2iRfg",
        "outputId": "f0f80968-fb30-41c2-8d48-457f8380d944"
      },
      "execution_count": null,
      "outputs": [
        {
          "output_type": "stream",
          "name": "stdout",
          "text": [
            "Confusion Matrix for SVM\n"
          ]
        },
        {
          "output_type": "display_data",
          "data": {
            "text/plain": [
              "<Figure size 800x600 with 1 Axes>"
            ],
            "image/png": "[encoded data removed]"
          },
          "metadata": {}
        }
      ]
    },
    {
      "cell_type": "code",
      "source": [
        "# ----- Classification Reports -----\n",
        "print(\"\\nClassification Report for Logistic Regression\")\n",
        "print(classification_report(y_test, y_pred_log))\n"
      ],
      "metadata": {
        "colab": {
          "base_uri": "https://localhost:8080/"
        },
        "id": "Dl8FUn6JiX7E",
        "outputId": "a5388c16-75cd-4460-9321-70e018e871df"
      },
      "execution_count": null,
      "outputs": [
        {
          "output_type": "stream",
          "name": "stdout",
          "text": [
            "\n",
            "Classification Report for Logistic Regression\n",
            "              precision    recall  f1-score   support\n",
            "\n",
            "           0       0.87      0.91      0.89       165\n",
            "           1       0.80      0.72      0.76        83\n",
            "\n",
            "    accuracy                           0.85       248\n",
            "   macro avg       0.83      0.82      0.82       248\n",
            "weighted avg       0.84      0.85      0.84       248\n",
            "\n"
          ]
        }
      ]
    },
    {
      "cell_type": "code",
      "source": [
        "print(\"\\nClassification Report for Decision Tree\")\n",
        "print(classification_report(y_test, y_pred_dt))\n"
      ],
      "metadata": {
        "colab": {
          "base_uri": "https://localhost:8080/"
        },
        "id": "0Ax_URLSia_D",
        "outputId": "a4c7c7e2-fcc2-44c8-8969-1286c027944c"
      },
      "execution_count": null,
      "outputs": [
        {
          "output_type": "stream",
          "name": "stdout",
          "text": [
            "\n",
            "Classification Report for Decision Tree\n",
            "              precision    recall  f1-score   support\n",
            "\n",
            "           0       0.84      0.87      0.85       165\n",
            "           1       0.72      0.66      0.69        83\n",
            "\n",
            "    accuracy                           0.80       248\n",
            "   macro avg       0.78      0.77      0.77       248\n",
            "weighted avg       0.80      0.80      0.80       248\n",
            "\n"
          ]
        }
      ]
    },
    {
      "cell_type": "code",
      "source": [
        "print(\"\\nClassification Report for Random Forest\")\n",
        "print(classification_report(y_test, y_pred_rf))\n"
      ],
      "metadata": {
        "colab": {
          "base_uri": "https://localhost:8080/"
        },
        "id": "bHdyeRPhieJ1",
        "outputId": "d28d357c-c52c-42ca-d5b8-708d29af8576"
      },
      "execution_count": null,
      "outputs": [
        {
          "output_type": "stream",
          "name": "stdout",
          "text": [
            "\n",
            "Classification Report for Random Forest\n",
            "              precision    recall  f1-score   support\n",
            "\n",
            "           0       0.83      0.95      0.88       165\n",
            "           1       0.85      0.61      0.71        83\n",
            "\n",
            "    accuracy                           0.83       248\n",
            "   macro avg       0.84      0.78      0.80       248\n",
            "weighted avg       0.84      0.83      0.83       248\n",
            "\n"
          ]
        }
      ]
    },
    {
      "cell_type": "code",
      "source": [
        "print(\"\\nClassification Report for K-Nearest Neighbors\")\n",
        "print(classification_report(y_test, y_pred_knn))\n"
      ],
      "metadata": {
        "colab": {
          "base_uri": "https://localhost:8080/"
        },
        "id": "IFWQBC9Dihc7",
        "outputId": "8170391b-1566-473a-da23-00d1c3f1abc8"
      },
      "execution_count": null,
      "outputs": [
        {
          "output_type": "stream",
          "name": "stdout",
          "text": [
            "\n",
            "Classification Report for K-Nearest Neighbors\n",
            "              precision    recall  f1-score   support\n",
            "\n",
            "           0       0.84      0.87      0.85       165\n",
            "           1       0.72      0.67      0.70        83\n",
            "\n",
            "    accuracy                           0.80       248\n",
            "   macro avg       0.78      0.77      0.77       248\n",
            "weighted avg       0.80      0.80      0.80       248\n",
            "\n"
          ]
        }
      ]
    },
    {
      "cell_type": "code",
      "source": [
        "print(\"\\nClassification Report for SVM\")\n",
        "print(classification_report(y_test, y_pred_svm))"
      ],
      "metadata": {
        "colab": {
          "base_uri": "https://localhost:8080/"
        },
        "id": "Rf6Xlvjlij6d",
        "outputId": "46bc9ec1-a4e3-4ea0-df59-f8ea307d87af"
      },
      "execution_count": null,
      "outputs": [
        {
          "output_type": "stream",
          "name": "stdout",
          "text": [
            "\n",
            "Classification Report for SVM\n",
            "              precision    recall  f1-score   support\n",
            "\n",
            "           0       0.85      0.91      0.88       165\n",
            "           1       0.79      0.67      0.73        83\n",
            "\n",
            "    accuracy                           0.83       248\n",
            "   macro avg       0.82      0.79      0.80       248\n",
            "weighted avg       0.83      0.83      0.83       248\n",
            "\n"
          ]
        }
      ]
    }
  ]
}